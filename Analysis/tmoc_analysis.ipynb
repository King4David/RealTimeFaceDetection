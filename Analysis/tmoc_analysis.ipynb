{
 "cells": [
  {
   "cell_type": "code",
   "execution_count": 277,
   "id": "39690f1b",
   "metadata": {},
   "outputs": [],
   "source": [
    "import numpy as np\n",
    "import pandas as pd\n",
    "import matplotlib.pyplot as plt\n",
    "from datetime import timedelta\n",
    "from sklearn.metrics import matthews_corrcoef"
   ]
  },
  {
   "cell_type": "code",
   "execution_count": 278,
   "id": "15b326ca",
   "metadata": {},
   "outputs": [],
   "source": [
    "obs_df = pd.concat([\n",
    "        pd.read_csv(\"video/tmoc1.csv\",names=[\"name\",\"minute\",\"second\"]),\n",
    "        pd.read_csv(\"video/tmoc2.csv\",names=[\"name\",\"minute\",\"second\"])\n",
    "    ]).reset_index(drop=True)"
   ]
  },
  {
   "cell_type": "code",
   "execution_count": 279,
   "id": "f463f4e5",
   "metadata": {},
   "outputs": [],
   "source": [
    "estimated_df = pd.read_csv(\"face_seen.csv\",names=[\"name\",\"minute\",\"second\"]).drop_duplicates().reset_index(drop=True)"
   ]
  },
  {
   "cell_type": "code",
   "execution_count": 280,
   "id": "44b1f7db",
   "metadata": {},
   "outputs": [],
   "source": [
    "obs_df[\"time\"] = obs_df[[\"minute\",\"second\"]].apply(lambda x: pd.Timedelta(minutes=x[0],seconds=x[1]) if x[1]<60 else pd.Timedelta(minutes=x[0]+1),axis=1)"
   ]
  },
  {
   "cell_type": "code",
   "execution_count": 281,
   "id": "0b665d78",
   "metadata": {},
   "outputs": [
    {
     "data": {
      "text/html": [
       "<div>\n",
       "<style scoped>\n",
       "    .dataframe tbody tr th:only-of-type {\n",
       "        vertical-align: middle;\n",
       "    }\n",
       "\n",
       "    .dataframe tbody tr th {\n",
       "        vertical-align: top;\n",
       "    }\n",
       "\n",
       "    .dataframe thead th {\n",
       "        text-align: right;\n",
       "    }\n",
       "</style>\n",
       "<table border=\"1\" class=\"dataframe\">\n",
       "  <thead>\n",
       "    <tr style=\"text-align: right;\">\n",
       "      <th></th>\n",
       "      <th>name</th>\n",
       "      <th>minute</th>\n",
       "      <th>second</th>\n",
       "      <th>time</th>\n",
       "    </tr>\n",
       "  </thead>\n",
       "  <tbody>\n",
       "    <tr>\n",
       "      <th>0</th>\n",
       "      <td>bhide</td>\n",
       "      <td>0</td>\n",
       "      <td>5</td>\n",
       "      <td>0 days 00:00:05</td>\n",
       "    </tr>\n",
       "    <tr>\n",
       "      <th>1</th>\n",
       "      <td>hati</td>\n",
       "      <td>0</td>\n",
       "      <td>5</td>\n",
       "      <td>0 days 00:00:05</td>\n",
       "    </tr>\n",
       "    <tr>\n",
       "      <th>2</th>\n",
       "      <td>abdul</td>\n",
       "      <td>0</td>\n",
       "      <td>5</td>\n",
       "      <td>0 days 00:00:05</td>\n",
       "    </tr>\n",
       "    <tr>\n",
       "      <th>3</th>\n",
       "      <td>unkown</td>\n",
       "      <td>0</td>\n",
       "      <td>5</td>\n",
       "      <td>0 days 00:00:05</td>\n",
       "    </tr>\n",
       "    <tr>\n",
       "      <th>4</th>\n",
       "      <td>bhide</td>\n",
       "      <td>0</td>\n",
       "      <td>5</td>\n",
       "      <td>0 days 00:00:05</td>\n",
       "    </tr>\n",
       "  </tbody>\n",
       "</table>\n",
       "</div>"
      ],
      "text/plain": [
       "     name  minute  second            time\n",
       "0   bhide       0       5 0 days 00:00:05\n",
       "1    hati       0       5 0 days 00:00:05\n",
       "2   abdul       0       5 0 days 00:00:05\n",
       "3  unkown       0       5 0 days 00:00:05\n",
       "4   bhide       0       5 0 days 00:00:05"
      ]
     },
     "execution_count": 281,
     "metadata": {},
     "output_type": "execute_result"
    }
   ],
   "source": [
    "obs_df.head()"
   ]
  },
  {
   "cell_type": "code",
   "execution_count": 282,
   "id": "0bd9f7ca",
   "metadata": {},
   "outputs": [],
   "source": [
    "estimated_df[\"time\"] =  estimated_df[[\"minute\",\"second\"]].apply(lambda x: pd.Timedelta(minutes=x[0],seconds=x[1]) if x[1]<60 else pd.Timedelta(minutes=x[0]+1),axis=1)"
   ]
  },
  {
   "cell_type": "code",
   "execution_count": 283,
   "id": "f05945d0",
   "metadata": {},
   "outputs": [
    {
     "data": {
      "text/html": [
       "<div>\n",
       "<style scoped>\n",
       "    .dataframe tbody tr th:only-of-type {\n",
       "        vertical-align: middle;\n",
       "    }\n",
       "\n",
       "    .dataframe tbody tr th {\n",
       "        vertical-align: top;\n",
       "    }\n",
       "\n",
       "    .dataframe thead th {\n",
       "        text-align: right;\n",
       "    }\n",
       "</style>\n",
       "<table border=\"1\" class=\"dataframe\">\n",
       "  <thead>\n",
       "    <tr style=\"text-align: right;\">\n",
       "      <th></th>\n",
       "      <th>name</th>\n",
       "      <th>minute</th>\n",
       "      <th>second</th>\n",
       "      <th>time</th>\n",
       "    </tr>\n",
       "  </thead>\n",
       "  <tbody>\n",
       "    <tr>\n",
       "      <th>0</th>\n",
       "      <td>haati</td>\n",
       "      <td>0</td>\n",
       "      <td>5</td>\n",
       "      <td>0 days 00:00:05</td>\n",
       "    </tr>\n",
       "    <tr>\n",
       "      <th>1</th>\n",
       "      <td>bhide</td>\n",
       "      <td>0</td>\n",
       "      <td>5</td>\n",
       "      <td>0 days 00:00:05</td>\n",
       "    </tr>\n",
       "    <tr>\n",
       "      <th>2</th>\n",
       "      <td>abdul</td>\n",
       "      <td>0</td>\n",
       "      <td>5</td>\n",
       "      <td>0 days 00:00:05</td>\n",
       "    </tr>\n",
       "    <tr>\n",
       "      <th>3</th>\n",
       "      <td>haati</td>\n",
       "      <td>0</td>\n",
       "      <td>6</td>\n",
       "      <td>0 days 00:00:06</td>\n",
       "    </tr>\n",
       "    <tr>\n",
       "      <th>4</th>\n",
       "      <td>bhide</td>\n",
       "      <td>0</td>\n",
       "      <td>6</td>\n",
       "      <td>0 days 00:00:06</td>\n",
       "    </tr>\n",
       "  </tbody>\n",
       "</table>\n",
       "</div>"
      ],
      "text/plain": [
       "    name  minute  second            time\n",
       "0  haati       0       5 0 days 00:00:05\n",
       "1  bhide       0       5 0 days 00:00:05\n",
       "2  abdul       0       5 0 days 00:00:05\n",
       "3  haati       0       6 0 days 00:00:06\n",
       "4  bhide       0       6 0 days 00:00:06"
      ]
     },
     "execution_count": 283,
     "metadata": {},
     "output_type": "execute_result"
    }
   ],
   "source": [
    "estimated_df.head()"
   ]
  },
  {
   "cell_type": "code",
   "execution_count": 284,
   "id": "05fdb0fc",
   "metadata": {},
   "outputs": [],
   "source": [
    "obs_df.set_index([\"time\"],inplace=True)\n",
    "estimated_df.set_index([\"time\"],inplace=True)\n",
    "obs_df.drop([\"minute\",\"second\"],axis=1,inplace=True)\n",
    "estimated_df.drop([\"minute\",\"second\"],axis=1,inplace=True)"
   ]
  },
  {
   "cell_type": "code",
   "execution_count": 285,
   "id": "b5026878",
   "metadata": {},
   "outputs": [
    {
     "data": {
      "text/html": [
       "<div>\n",
       "<style scoped>\n",
       "    .dataframe tbody tr th:only-of-type {\n",
       "        vertical-align: middle;\n",
       "    }\n",
       "\n",
       "    .dataframe tbody tr th {\n",
       "        vertical-align: top;\n",
       "    }\n",
       "\n",
       "    .dataframe thead th {\n",
       "        text-align: right;\n",
       "    }\n",
       "</style>\n",
       "<table border=\"1\" class=\"dataframe\">\n",
       "  <thead>\n",
       "    <tr style=\"text-align: right;\">\n",
       "      <th></th>\n",
       "      <th>name</th>\n",
       "    </tr>\n",
       "    <tr>\n",
       "      <th>time</th>\n",
       "      <th></th>\n",
       "    </tr>\n",
       "  </thead>\n",
       "  <tbody>\n",
       "    <tr>\n",
       "      <th>0 days 00:19:57</th>\n",
       "      <td>sodi wife</td>\n",
       "    </tr>\n",
       "    <tr>\n",
       "      <th>0 days 00:19:58</th>\n",
       "      <td>hathi wife</td>\n",
       "    </tr>\n",
       "    <tr>\n",
       "      <th>0 days 00:19:58</th>\n",
       "      <td>sodi wife</td>\n",
       "    </tr>\n",
       "    <tr>\n",
       "      <th>0 days 00:19:59</th>\n",
       "      <td>hathi wife</td>\n",
       "    </tr>\n",
       "    <tr>\n",
       "      <th>0 days 00:19:59</th>\n",
       "      <td>sodi wife</td>\n",
       "    </tr>\n",
       "  </tbody>\n",
       "</table>\n",
       "</div>"
      ],
      "text/plain": [
       "                       name\n",
       "time                       \n",
       "0 days 00:19:57   sodi wife\n",
       "0 days 00:19:58  hathi wife\n",
       "0 days 00:19:58   sodi wife\n",
       "0 days 00:19:59  hathi wife\n",
       "0 days 00:19:59   sodi wife"
      ]
     },
     "execution_count": 285,
     "metadata": {},
     "output_type": "execute_result"
    }
   ],
   "source": [
    "obs_df.tail()"
   ]
  },
  {
   "cell_type": "code",
   "execution_count": 286,
   "id": "13463718",
   "metadata": {},
   "outputs": [
    {
     "data": {
      "text/html": [
       "<div>\n",
       "<style scoped>\n",
       "    .dataframe tbody tr th:only-of-type {\n",
       "        vertical-align: middle;\n",
       "    }\n",
       "\n",
       "    .dataframe tbody tr th {\n",
       "        vertical-align: top;\n",
       "    }\n",
       "\n",
       "    .dataframe thead th {\n",
       "        text-align: right;\n",
       "    }\n",
       "</style>\n",
       "<table border=\"1\" class=\"dataframe\">\n",
       "  <thead>\n",
       "    <tr style=\"text-align: right;\">\n",
       "      <th></th>\n",
       "      <th>name</th>\n",
       "    </tr>\n",
       "    <tr>\n",
       "      <th>time</th>\n",
       "      <th></th>\n",
       "    </tr>\n",
       "  </thead>\n",
       "  <tbody>\n",
       "    <tr>\n",
       "      <th>0 days 00:20:40</th>\n",
       "      <td>babita</td>\n",
       "    </tr>\n",
       "    <tr>\n",
       "      <th>0 days 00:20:41</th>\n",
       "      <td>tarak</td>\n",
       "    </tr>\n",
       "    <tr>\n",
       "      <th>0 days 00:20:41</th>\n",
       "      <td>ayar</td>\n",
       "    </tr>\n",
       "    <tr>\n",
       "      <th>0 days 00:20:41</th>\n",
       "      <td>babita</td>\n",
       "    </tr>\n",
       "    <tr>\n",
       "      <th>0 days 00:20:42</th>\n",
       "      <td>babita</td>\n",
       "    </tr>\n",
       "  </tbody>\n",
       "</table>\n",
       "</div>"
      ],
      "text/plain": [
       "                   name\n",
       "time                   \n",
       "0 days 00:20:40  babita\n",
       "0 days 00:20:41   tarak\n",
       "0 days 00:20:41    ayar\n",
       "0 days 00:20:41  babita\n",
       "0 days 00:20:42  babita"
      ]
     },
     "execution_count": 286,
     "metadata": {},
     "output_type": "execute_result"
    }
   ],
   "source": [
    "estimated_df.tail()"
   ]
  },
  {
   "cell_type": "code",
   "execution_count": 287,
   "id": "294ec0fb",
   "metadata": {},
   "outputs": [],
   "source": [
    "estimated_df = estimated_df.loc[estimated_df.index < pd.Timedelta(minutes=20)]"
   ]
  },
  {
   "cell_type": "code",
   "execution_count": 288,
   "id": "56d5e3b7",
   "metadata": {},
   "outputs": [
    {
     "data": {
      "text/html": [
       "<div>\n",
       "<style scoped>\n",
       "    .dataframe tbody tr th:only-of-type {\n",
       "        vertical-align: middle;\n",
       "    }\n",
       "\n",
       "    .dataframe tbody tr th {\n",
       "        vertical-align: top;\n",
       "    }\n",
       "\n",
       "    .dataframe thead th {\n",
       "        text-align: right;\n",
       "    }\n",
       "</style>\n",
       "<table border=\"1\" class=\"dataframe\">\n",
       "  <thead>\n",
       "    <tr style=\"text-align: right;\">\n",
       "      <th></th>\n",
       "      <th>name</th>\n",
       "    </tr>\n",
       "    <tr>\n",
       "      <th>time</th>\n",
       "      <th></th>\n",
       "    </tr>\n",
       "  </thead>\n",
       "  <tbody>\n",
       "    <tr>\n",
       "      <th>0 days 00:19:58</th>\n",
       "      <td>sodi wife</td>\n",
       "    </tr>\n",
       "    <tr>\n",
       "      <th>0 days 00:19:59</th>\n",
       "      <td>sodi wife</td>\n",
       "    </tr>\n",
       "    <tr>\n",
       "      <th>0 days 00:19:59</th>\n",
       "      <td>bhide wife</td>\n",
       "    </tr>\n",
       "    <tr>\n",
       "      <th>0 days 00:19:59</th>\n",
       "      <td>babita</td>\n",
       "    </tr>\n",
       "    <tr>\n",
       "      <th>0 days 00:19:59</th>\n",
       "      <td>abdul</td>\n",
       "    </tr>\n",
       "  </tbody>\n",
       "</table>\n",
       "</div>"
      ],
      "text/plain": [
       "                       name\n",
       "time                       \n",
       "0 days 00:19:58   sodi wife\n",
       "0 days 00:19:59   sodi wife\n",
       "0 days 00:19:59  bhide wife\n",
       "0 days 00:19:59      babita\n",
       "0 days 00:19:59       abdul"
      ]
     },
     "execution_count": 288,
     "metadata": {},
     "output_type": "execute_result"
    }
   ],
   "source": [
    "estimated_df.tail()"
   ]
  },
  {
   "cell_type": "code",
   "execution_count": 326,
   "id": "30d0dca4",
   "metadata": {},
   "outputs": [],
   "source": [
    "obs_df = obs_df.loc[(obs_df[\"name\"]!=\"unkown\")&(obs_df[\"name\"]!=\"unkwon\")&(obs_df[\"name\"]!=\"unknown\")]\n",
    "estimated_df = estimated_df.loc[(estimated_df[\"name\"]!=\"unkown\")&(estimated_df[\"name\"]!=\"unkwon\")&(estimated_df[\"name\"]!=\"unknown\")]"
   ]
  },
  {
   "cell_type": "code",
   "execution_count": 327,
   "id": "7e383d69",
   "metadata": {},
   "outputs": [
    {
     "data": {
      "text/plain": [
       "name       \n",
       "jethalal       416\n",
       "champaklal     311\n",
       "tarak          227\n",
       "babita         188\n",
       "ayar           121\n",
       "abdul          116\n",
       "tarak wife      95\n",
       "sodi            77\n",
       "bhide wife      63\n",
       "bhide           58\n",
       "tappu           29\n",
       "hati            27\n",
       "popatlal        20\n",
       "sodi wife       12\n",
       "hathi wife      12\n",
       "tarak            3\n",
       "golu             3\n",
       "gogi             3\n",
       " tarak wife      3\n",
       "sonu             3\n",
       "chintu           3\n",
       "tark             2\n",
       " bhide wife      1\n",
       " jethalal        1\n",
       "tarak wife       1\n",
       "tarakwife        1\n",
       " bhide           1\n",
       "dtype: int64"
      ]
     },
     "execution_count": 327,
     "metadata": {},
     "output_type": "execute_result"
    }
   ],
   "source": [
    "obs_df.value_counts()"
   ]
  },
  {
   "cell_type": "code",
   "execution_count": 328,
   "id": "9b212393",
   "metadata": {},
   "outputs": [
    {
     "data": {
      "text/plain": [
       "name           \n",
       "babita             649\n",
       "ayar               593\n",
       "jethalal           302\n",
       "abdul              120\n",
       "champak lal        119\n",
       "tarak              105\n",
       "bhide wife          51\n",
       "haati               51\n",
       "tarak wife          41\n",
       "bhide               30\n",
       "sodi                30\n",
       "tappu               30\n",
       "popatlal            29\n",
       "babita friend       25\n",
       "sodi wife           17\n",
       "rickshaw driver     11\n",
       "haati wife           9\n",
       "dtype: int64"
      ]
     },
     "execution_count": 328,
     "metadata": {},
     "output_type": "execute_result"
    }
   ],
   "source": [
    "estimated_df.value_counts()"
   ]
  },
  {
   "cell_type": "code",
   "execution_count": 329,
   "id": "8a90e4c0",
   "metadata": {},
   "outputs": [],
   "source": [
    "def preprocess_name(x):\n",
    "    x = x.strip()\n",
    "    if x == \"tark\":\n",
    "        return \"tarak\"\n",
    "    \n",
    "    if x == \"tarakwife\":\n",
    "        return \"tarak wife\"\n",
    "    return x"
   ]
  },
  {
   "cell_type": "code",
   "execution_count": 331,
   "id": "cfddab06",
   "metadata": {},
   "outputs": [],
   "source": [
    "obs_df[\"name\"] = obs_df[\"name\"].apply(lambda x: preprocess_name(x))"
   ]
  },
  {
   "cell_type": "code",
   "execution_count": 333,
   "id": "128436ba",
   "metadata": {},
   "outputs": [
    {
     "data": {
      "text/plain": [
       "name      \n",
       "jethalal      417\n",
       "champaklal    311\n",
       "tarak         232\n",
       "babita        188\n",
       "ayar          121\n",
       "abdul         116\n",
       "tarak wife    100\n",
       "sodi           77\n",
       "bhide wife     64\n",
       "bhide          59\n",
       "tappu          29\n",
       "hati           27\n",
       "popatlal       20\n",
       "sodi wife      12\n",
       "hathi wife     12\n",
       "gogi            3\n",
       "golu            3\n",
       "chintu          3\n",
       "sonu            3\n",
       "dtype: int64"
      ]
     },
     "execution_count": 333,
     "metadata": {},
     "output_type": "execute_result"
    }
   ],
   "source": [
    "obs_df.value_counts()"
   ]
  },
  {
   "cell_type": "code",
   "execution_count": 394,
   "id": "967a909b",
   "metadata": {},
   "outputs": [],
   "source": [
    "obs_df = obs_df[~obs_df[[\"name\"]].isin([\"golu\",\"gogi\",\"chintu\",\"sonu\"])]\n",
    "est_df = estimated_df[~estimated_df[[\"name\"]].isin([\"rickshaw driver\",\"babita friend\"])]"
   ]
  },
  {
   "cell_type": "code",
   "execution_count": 396,
   "id": "ed871f6f",
   "metadata": {
    "scrolled": true
   },
   "outputs": [
    {
     "data": {
      "text/plain": [
       "name      \n",
       "jethalal      417\n",
       "champaklal    311\n",
       "tarak         232\n",
       "babita        188\n",
       "ayar          121\n",
       "abdul         116\n",
       "tarak wife    100\n",
       "sodi           77\n",
       "bhide wife     64\n",
       "bhide          59\n",
       "tappu          29\n",
       "hati           27\n",
       "popatlal       20\n",
       "hathi wife     12\n",
       "sodi wife      12\n",
       "dtype: int64"
      ]
     },
     "execution_count": 396,
     "metadata": {},
     "output_type": "execute_result"
    }
   ],
   "source": [
    "obs_df.value_counts()"
   ]
  },
  {
   "cell_type": "code",
   "execution_count": 397,
   "id": "9d0d2bbc",
   "metadata": {},
   "outputs": [
    {
     "data": {
      "text/plain": [
       "name       \n",
       "babita         649\n",
       "ayar           593\n",
       "jethalal       302\n",
       "abdul          120\n",
       "champak lal    119\n",
       "tarak          105\n",
       "bhide wife      51\n",
       "haati           51\n",
       "tarak wife      41\n",
       "bhide           30\n",
       "sodi            30\n",
       "tappu           30\n",
       "popatlal        29\n",
       "sodi wife       17\n",
       "haati wife       9\n",
       "dtype: int64"
      ]
     },
     "execution_count": 397,
     "metadata": {},
     "output_type": "execute_result"
    }
   ],
   "source": [
    "est_df.value_counts()"
   ]
  },
  {
   "cell_type": "code",
   "execution_count": 400,
   "id": "866ac6e2",
   "metadata": {},
   "outputs": [],
   "source": [
    "obs_agg = obs_df.groupby(pd.Grouper(freq=\"2s\")).apply(lambda x:x[\"name\"].unique())\n",
    "est_agg = est_df.groupby(pd.Grouper(freq=\"2s\")).apply(lambda x:x[\"name\"].unique())"
   ]
  },
  {
   "cell_type": "code",
   "execution_count": 401,
   "id": "e309d4f7",
   "metadata": {},
   "outputs": [
    {
     "data": {
      "text/plain": [
       "time\n",
       "0 days 00:00:05                           [bhide, hati, abdul]\n",
       "0 days 00:00:07    [bhide, hati, abdul, jethalal, tarak, sodi]\n",
       "0 days 00:00:09    [jethalal, tarak, sodi, bhide, hati, abdul]\n",
       "0 days 00:00:11    [bhide, hati, abdul, jethalal, tarak, sodi]\n",
       "0 days 00:00:13    [jethalal, tarak, sodi, bhide, hati, abdul]\n",
       "                                      ...                     \n",
       "0 days 00:19:51                            [abdul, champaklal]\n",
       "0 days 00:19:53                        [hathi wife, sodi wife]\n",
       "0 days 00:19:55                        [hathi wife, sodi wife]\n",
       "0 days 00:19:57                        [hathi wife, sodi wife]\n",
       "0 days 00:19:59                        [hathi wife, sodi wife]\n",
       "Freq: 2S, Length: 598, dtype: object"
      ]
     },
     "execution_count": 401,
     "metadata": {},
     "output_type": "execute_result"
    }
   ],
   "source": [
    "obs_agg"
   ]
  },
  {
   "cell_type": "code",
   "execution_count": 402,
   "id": "b8b118ce",
   "metadata": {},
   "outputs": [
    {
     "data": {
      "text/plain": [
       "time\n",
       "0 days 00:00:05                  [haati, bhide, abdul, ayar, babita]\n",
       "0 days 00:00:07            [haati, abdul, ayar, babita, bhide, sodi]\n",
       "0 days 00:00:09                  [abdul, ayar, haati, babita, bhide]\n",
       "0 days 00:00:11         [babita, haati, abdul, ayar, jethalal, sodi]\n",
       "0 days 00:00:13                   [babita, haati, ayar, abdul, sodi]\n",
       "                                         ...                        \n",
       "0 days 00:19:51                     [abdul, ayar, babita, sodi wife]\n",
       "0 days 00:19:53    [sodi wife, haati wife, abdul, babita, bhide w...\n",
       "0 days 00:19:55          [bhide wife, babita, sodi wife, haati wife]\n",
       "0 days 00:19:57                      [sodi wife, bhide wife, babita]\n",
       "0 days 00:19:59               [sodi wife, bhide wife, babita, abdul]\n",
       "Freq: 2S, Length: 598, dtype: object"
      ]
     },
     "execution_count": 402,
     "metadata": {},
     "output_type": "execute_result"
    }
   ],
   "source": [
    "est_agg"
   ]
  },
  {
   "cell_type": "code",
   "execution_count": 409,
   "id": "12976c2d",
   "metadata": {},
   "outputs": [
    {
     "data": {
      "text/plain": [
       "(598,)"
      ]
     },
     "execution_count": 409,
     "metadata": {},
     "output_type": "execute_result"
    }
   ],
   "source": [
    "obs_agg.values.shape"
   ]
  },
  {
   "cell_type": "code",
   "execution_count": 410,
   "id": "1b800a32",
   "metadata": {},
   "outputs": [
    {
     "data": {
      "text/plain": [
       "(598,)"
      ]
     },
     "execution_count": 410,
     "metadata": {},
     "output_type": "execute_result"
    }
   ],
   "source": [
    "est_agg.values.shape"
   ]
  },
  {
   "cell_type": "code",
   "execution_count": null,
   "id": "6aa679b1",
   "metadata": {},
   "outputs": [],
   "source": []
  }
 ],
 "metadata": {
  "kernelspec": {
   "display_name": "Python 3 (ipykernel)",
   "language": "python",
   "name": "python3"
  },
  "language_info": {
   "codemirror_mode": {
    "name": "ipython",
    "version": 3
   },
   "file_extension": ".py",
   "mimetype": "text/x-python",
   "name": "python",
   "nbconvert_exporter": "python",
   "pygments_lexer": "ipython3",
   "version": "3.9.13"
  }
 },
 "nbformat": 4,
 "nbformat_minor": 5
}

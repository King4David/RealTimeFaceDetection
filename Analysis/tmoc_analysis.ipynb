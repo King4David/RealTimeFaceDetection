{
 "cells": [
  {
   "cell_type": "code",
   "execution_count": 446,
   "id": "39690f1b",
   "metadata": {},
   "outputs": [],
   "source": [
    "import numpy as np\n",
    "import pandas as pd\n",
    "import matplotlib.pyplot as plt\n",
    "from datetime import timedelta"
   ]
  },
  {
   "cell_type": "code",
   "execution_count": 447,
   "id": "15b326ca",
   "metadata": {},
   "outputs": [],
   "source": [
    "obs_df = pd.concat([\n",
    "        pd.read_csv(\"video/tmoc1.csv\",names=[\"name\",\"minute\",\"second\"]),\n",
    "        pd.read_csv(\"video/tmoc2.csv\",names=[\"name\",\"minute\",\"second\"])\n",
    "    ]).reset_index(drop=True)"
   ]
  },
  {
   "cell_type": "code",
   "execution_count": 448,
   "id": "f463f4e5",
   "metadata": {},
   "outputs": [],
   "source": [
    "estimated_df = pd.read_csv(\"face_seen_fn512_l2.csv\",names=[\"name\",\"minute\",\"second\"]).drop_duplicates().reset_index(drop=True)"
   ]
  },
  {
   "cell_type": "code",
   "execution_count": 449,
   "id": "44b1f7db",
   "metadata": {},
   "outputs": [],
   "source": [
    "obs_df[\"time\"] = obs_df[[\"minute\",\"second\"]].apply(lambda x: pd.Timedelta(minutes=x[0],seconds=x[1]) if x[1]<60 else pd.Timedelta(minutes=x[0]+1),axis=1)"
   ]
  },
  {
   "cell_type": "code",
   "execution_count": 450,
   "id": "0b665d78",
   "metadata": {},
   "outputs": [
    {
     "data": {
      "text/html": [
       "<div>\n",
       "<style scoped>\n",
       "    .dataframe tbody tr th:only-of-type {\n",
       "        vertical-align: middle;\n",
       "    }\n",
       "\n",
       "    .dataframe tbody tr th {\n",
       "        vertical-align: top;\n",
       "    }\n",
       "\n",
       "    .dataframe thead th {\n",
       "        text-align: right;\n",
       "    }\n",
       "</style>\n",
       "<table border=\"1\" class=\"dataframe\">\n",
       "  <thead>\n",
       "    <tr style=\"text-align: right;\">\n",
       "      <th></th>\n",
       "      <th>name</th>\n",
       "      <th>minute</th>\n",
       "      <th>second</th>\n",
       "      <th>time</th>\n",
       "    </tr>\n",
       "  </thead>\n",
       "  <tbody>\n",
       "    <tr>\n",
       "      <th>0</th>\n",
       "      <td>bhide</td>\n",
       "      <td>0</td>\n",
       "      <td>5</td>\n",
       "      <td>0 days 00:00:05</td>\n",
       "    </tr>\n",
       "    <tr>\n",
       "      <th>1</th>\n",
       "      <td>hati</td>\n",
       "      <td>0</td>\n",
       "      <td>5</td>\n",
       "      <td>0 days 00:00:05</td>\n",
       "    </tr>\n",
       "    <tr>\n",
       "      <th>2</th>\n",
       "      <td>abdul</td>\n",
       "      <td>0</td>\n",
       "      <td>5</td>\n",
       "      <td>0 days 00:00:05</td>\n",
       "    </tr>\n",
       "    <tr>\n",
       "      <th>3</th>\n",
       "      <td>unkown</td>\n",
       "      <td>0</td>\n",
       "      <td>5</td>\n",
       "      <td>0 days 00:00:05</td>\n",
       "    </tr>\n",
       "    <tr>\n",
       "      <th>4</th>\n",
       "      <td>bhide</td>\n",
       "      <td>0</td>\n",
       "      <td>5</td>\n",
       "      <td>0 days 00:00:05</td>\n",
       "    </tr>\n",
       "  </tbody>\n",
       "</table>\n",
       "</div>"
      ],
      "text/plain": [
       "     name  minute  second            time\n",
       "0   bhide       0       5 0 days 00:00:05\n",
       "1    hati       0       5 0 days 00:00:05\n",
       "2   abdul       0       5 0 days 00:00:05\n",
       "3  unkown       0       5 0 days 00:00:05\n",
       "4   bhide       0       5 0 days 00:00:05"
      ]
     },
     "execution_count": 450,
     "metadata": {},
     "output_type": "execute_result"
    }
   ],
   "source": [
    "obs_df.head()"
   ]
  },
  {
   "cell_type": "code",
   "execution_count": 451,
   "id": "0bd9f7ca",
   "metadata": {},
   "outputs": [],
   "source": [
    "estimated_df[\"time\"] =  estimated_df[[\"minute\",\"second\"]].apply(lambda x: pd.Timedelta(minutes=x[0],seconds=x[1]) if x[1]<60 else pd.Timedelta(minutes=x[0]+1),axis=1)"
   ]
  },
  {
   "cell_type": "code",
   "execution_count": 452,
   "id": "f05945d0",
   "metadata": {},
   "outputs": [
    {
     "data": {
      "text/html": [
       "<div>\n",
       "<style scoped>\n",
       "    .dataframe tbody tr th:only-of-type {\n",
       "        vertical-align: middle;\n",
       "    }\n",
       "\n",
       "    .dataframe tbody tr th {\n",
       "        vertical-align: top;\n",
       "    }\n",
       "\n",
       "    .dataframe thead th {\n",
       "        text-align: right;\n",
       "    }\n",
       "</style>\n",
       "<table border=\"1\" class=\"dataframe\">\n",
       "  <thead>\n",
       "    <tr style=\"text-align: right;\">\n",
       "      <th></th>\n",
       "      <th>name</th>\n",
       "      <th>minute</th>\n",
       "      <th>second</th>\n",
       "      <th>time</th>\n",
       "    </tr>\n",
       "  </thead>\n",
       "  <tbody>\n",
       "    <tr>\n",
       "      <th>0</th>\n",
       "      <td>haati</td>\n",
       "      <td>0</td>\n",
       "      <td>5</td>\n",
       "      <td>0 days 00:00:05</td>\n",
       "    </tr>\n",
       "    <tr>\n",
       "      <th>1</th>\n",
       "      <td>bhide</td>\n",
       "      <td>0</td>\n",
       "      <td>5</td>\n",
       "      <td>0 days 00:00:05</td>\n",
       "    </tr>\n",
       "    <tr>\n",
       "      <th>2</th>\n",
       "      <td>abdul</td>\n",
       "      <td>0</td>\n",
       "      <td>5</td>\n",
       "      <td>0 days 00:00:05</td>\n",
       "    </tr>\n",
       "    <tr>\n",
       "      <th>3</th>\n",
       "      <td>haati</td>\n",
       "      <td>0</td>\n",
       "      <td>6</td>\n",
       "      <td>0 days 00:00:06</td>\n",
       "    </tr>\n",
       "    <tr>\n",
       "      <th>4</th>\n",
       "      <td>bhide</td>\n",
       "      <td>0</td>\n",
       "      <td>6</td>\n",
       "      <td>0 days 00:00:06</td>\n",
       "    </tr>\n",
       "  </tbody>\n",
       "</table>\n",
       "</div>"
      ],
      "text/plain": [
       "    name  minute  second            time\n",
       "0  haati       0       5 0 days 00:00:05\n",
       "1  bhide       0       5 0 days 00:00:05\n",
       "2  abdul       0       5 0 days 00:00:05\n",
       "3  haati       0       6 0 days 00:00:06\n",
       "4  bhide       0       6 0 days 00:00:06"
      ]
     },
     "execution_count": 452,
     "metadata": {},
     "output_type": "execute_result"
    }
   ],
   "source": [
    "estimated_df.head()"
   ]
  },
  {
   "cell_type": "code",
   "execution_count": 453,
   "id": "05fdb0fc",
   "metadata": {},
   "outputs": [],
   "source": [
    "obs_df.set_index([\"time\"],inplace=True)\n",
    "estimated_df.set_index([\"time\"],inplace=True)\n",
    "obs_df.drop([\"minute\",\"second\"],axis=1,inplace=True)\n",
    "estimated_df.drop([\"minute\",\"second\"],errors=\"ignore\",axis=1,inplace=True)"
   ]
  },
  {
   "cell_type": "code",
   "execution_count": 454,
   "id": "b5026878",
   "metadata": {},
   "outputs": [
    {
     "data": {
      "text/html": [
       "<div>\n",
       "<style scoped>\n",
       "    .dataframe tbody tr th:only-of-type {\n",
       "        vertical-align: middle;\n",
       "    }\n",
       "\n",
       "    .dataframe tbody tr th {\n",
       "        vertical-align: top;\n",
       "    }\n",
       "\n",
       "    .dataframe thead th {\n",
       "        text-align: right;\n",
       "    }\n",
       "</style>\n",
       "<table border=\"1\" class=\"dataframe\">\n",
       "  <thead>\n",
       "    <tr style=\"text-align: right;\">\n",
       "      <th></th>\n",
       "      <th>name</th>\n",
       "    </tr>\n",
       "    <tr>\n",
       "      <th>time</th>\n",
       "      <th></th>\n",
       "    </tr>\n",
       "  </thead>\n",
       "  <tbody>\n",
       "    <tr>\n",
       "      <th>0 days 00:19:57</th>\n",
       "      <td>sodi wife</td>\n",
       "    </tr>\n",
       "    <tr>\n",
       "      <th>0 days 00:19:58</th>\n",
       "      <td>hathi wife</td>\n",
       "    </tr>\n",
       "    <tr>\n",
       "      <th>0 days 00:19:58</th>\n",
       "      <td>sodi wife</td>\n",
       "    </tr>\n",
       "    <tr>\n",
       "      <th>0 days 00:19:59</th>\n",
       "      <td>hathi wife</td>\n",
       "    </tr>\n",
       "    <tr>\n",
       "      <th>0 days 00:19:59</th>\n",
       "      <td>sodi wife</td>\n",
       "    </tr>\n",
       "  </tbody>\n",
       "</table>\n",
       "</div>"
      ],
      "text/plain": [
       "                       name\n",
       "time                       \n",
       "0 days 00:19:57   sodi wife\n",
       "0 days 00:19:58  hathi wife\n",
       "0 days 00:19:58   sodi wife\n",
       "0 days 00:19:59  hathi wife\n",
       "0 days 00:19:59   sodi wife"
      ]
     },
     "execution_count": 454,
     "metadata": {},
     "output_type": "execute_result"
    }
   ],
   "source": [
    "obs_df.tail()"
   ]
  },
  {
   "cell_type": "code",
   "execution_count": 455,
   "id": "13463718",
   "metadata": {
    "scrolled": true
   },
   "outputs": [
    {
     "data": {
      "text/html": [
       "<div>\n",
       "<style scoped>\n",
       "    .dataframe tbody tr th:only-of-type {\n",
       "        vertical-align: middle;\n",
       "    }\n",
       "\n",
       "    .dataframe tbody tr th {\n",
       "        vertical-align: top;\n",
       "    }\n",
       "\n",
       "    .dataframe thead th {\n",
       "        text-align: right;\n",
       "    }\n",
       "</style>\n",
       "<table border=\"1\" class=\"dataframe\">\n",
       "  <thead>\n",
       "    <tr style=\"text-align: right;\">\n",
       "      <th></th>\n",
       "      <th>name</th>\n",
       "    </tr>\n",
       "    <tr>\n",
       "      <th>time</th>\n",
       "      <th></th>\n",
       "    </tr>\n",
       "  </thead>\n",
       "  <tbody>\n",
       "    <tr>\n",
       "      <th>0 days 00:20:40</th>\n",
       "      <td>tarak</td>\n",
       "    </tr>\n",
       "    <tr>\n",
       "      <th>0 days 00:20:41</th>\n",
       "      <td>tarak</td>\n",
       "    </tr>\n",
       "    <tr>\n",
       "      <th>0 days 00:20:41</th>\n",
       "      <td>unknown</td>\n",
       "    </tr>\n",
       "    <tr>\n",
       "      <th>0 days 00:20:41</th>\n",
       "      <td>bhide</td>\n",
       "    </tr>\n",
       "    <tr>\n",
       "      <th>0 days 00:20:42</th>\n",
       "      <td>tarak</td>\n",
       "    </tr>\n",
       "  </tbody>\n",
       "</table>\n",
       "</div>"
      ],
      "text/plain": [
       "                    name\n",
       "time                    \n",
       "0 days 00:20:40    tarak\n",
       "0 days 00:20:41    tarak\n",
       "0 days 00:20:41  unknown\n",
       "0 days 00:20:41    bhide\n",
       "0 days 00:20:42    tarak"
      ]
     },
     "execution_count": 455,
     "metadata": {},
     "output_type": "execute_result"
    }
   ],
   "source": [
    "estimated_df.tail()"
   ]
  },
  {
   "cell_type": "code",
   "execution_count": 456,
   "id": "294ec0fb",
   "metadata": {},
   "outputs": [],
   "source": [
    "estimated_df = estimated_df.loc[estimated_df.index < pd.Timedelta(minutes=20)]"
   ]
  },
  {
   "cell_type": "code",
   "execution_count": 457,
   "id": "56d5e3b7",
   "metadata": {},
   "outputs": [
    {
     "data": {
      "text/html": [
       "<div>\n",
       "<style scoped>\n",
       "    .dataframe tbody tr th:only-of-type {\n",
       "        vertical-align: middle;\n",
       "    }\n",
       "\n",
       "    .dataframe tbody tr th {\n",
       "        vertical-align: top;\n",
       "    }\n",
       "\n",
       "    .dataframe thead th {\n",
       "        text-align: right;\n",
       "    }\n",
       "</style>\n",
       "<table border=\"1\" class=\"dataframe\">\n",
       "  <thead>\n",
       "    <tr style=\"text-align: right;\">\n",
       "      <th></th>\n",
       "      <th>name</th>\n",
       "    </tr>\n",
       "    <tr>\n",
       "      <th>time</th>\n",
       "      <th></th>\n",
       "    </tr>\n",
       "  </thead>\n",
       "  <tbody>\n",
       "    <tr>\n",
       "      <th>0 days 00:19:58</th>\n",
       "      <td>sodi wife</td>\n",
       "    </tr>\n",
       "    <tr>\n",
       "      <th>0 days 00:19:58</th>\n",
       "      <td>haati wife</td>\n",
       "    </tr>\n",
       "    <tr>\n",
       "      <th>0 days 00:19:59</th>\n",
       "      <td>sodi wife</td>\n",
       "    </tr>\n",
       "    <tr>\n",
       "      <th>0 days 00:19:59</th>\n",
       "      <td>haati wife</td>\n",
       "    </tr>\n",
       "    <tr>\n",
       "      <th>0 days 00:19:59</th>\n",
       "      <td>unknown</td>\n",
       "    </tr>\n",
       "  </tbody>\n",
       "</table>\n",
       "</div>"
      ],
      "text/plain": [
       "                       name\n",
       "time                       \n",
       "0 days 00:19:58   sodi wife\n",
       "0 days 00:19:58  haati wife\n",
       "0 days 00:19:59   sodi wife\n",
       "0 days 00:19:59  haati wife\n",
       "0 days 00:19:59     unknown"
      ]
     },
     "execution_count": 457,
     "metadata": {},
     "output_type": "execute_result"
    }
   ],
   "source": [
    "estimated_df.tail()"
   ]
  },
  {
   "cell_type": "code",
   "execution_count": 458,
   "id": "30d0dca4",
   "metadata": {},
   "outputs": [],
   "source": [
    "obs_df = obs_df.loc[(obs_df[\"name\"]!=\"unkown\")&(obs_df[\"name\"]!=\"unkwon\")&(obs_df[\"name\"]!=\"unknown\")]\n",
    "estimated_df = estimated_df.loc[(estimated_df[\"name\"]!=\"unkown\")&(estimated_df[\"name\"]!=\"unkwon\")&(estimated_df[\"name\"]!=\"unknown\")]"
   ]
  },
  {
   "cell_type": "code",
   "execution_count": 459,
   "id": "7e383d69",
   "metadata": {},
   "outputs": [
    {
     "data": {
      "text/plain": [
       "name       \n",
       "jethalal       416\n",
       "champaklal     311\n",
       "tarak          227\n",
       "babita         188\n",
       "ayar           121\n",
       "abdul          116\n",
       "tarak wife      95\n",
       "sodi            77\n",
       "bhide wife      63\n",
       "bhide           58\n",
       "tappu           29\n",
       "hati            27\n",
       "popatlal        20\n",
       "sodi wife       12\n",
       "hathi wife      12\n",
       "tarak            3\n",
       "golu             3\n",
       "gogi             3\n",
       " tarak wife      3\n",
       "sonu             3\n",
       "chintu           3\n",
       "tark             2\n",
       " bhide wife      1\n",
       " jethalal        1\n",
       "tarak wife       1\n",
       "tarakwife        1\n",
       " bhide           1\n",
       "dtype: int64"
      ]
     },
     "execution_count": 459,
     "metadata": {},
     "output_type": "execute_result"
    }
   ],
   "source": [
    "obs_df.value_counts()"
   ]
  },
  {
   "cell_type": "code",
   "execution_count": 460,
   "id": "9b212393",
   "metadata": {},
   "outputs": [
    {
     "data": {
      "text/plain": [
       "name           \n",
       "jethalal           390\n",
       "champak lal        254\n",
       "tarak              239\n",
       "tappu              164\n",
       "bhide              161\n",
       "babita             146\n",
       "ayar               123\n",
       "tarak wife         111\n",
       "bhide wife         101\n",
       "abdul               71\n",
       "popatlal            60\n",
       "haati               53\n",
       "sodi                49\n",
       "rickshaw driver     30\n",
       "babita friend       29\n",
       "haati wife          20\n",
       "sodi wife           18\n",
       "dtype: int64"
      ]
     },
     "execution_count": 460,
     "metadata": {},
     "output_type": "execute_result"
    }
   ],
   "source": [
    "estimated_df.value_counts()"
   ]
  },
  {
   "cell_type": "code",
   "execution_count": 461,
   "id": "8a90e4c0",
   "metadata": {},
   "outputs": [],
   "source": [
    "def preprocess_name(x):\n",
    "    x = x.strip()\n",
    "    if x == \"tark\":\n",
    "        return \"tarak\"\n",
    "    \n",
    "    if x == \"tarakwife\":\n",
    "        return \"tarak wife\"\n",
    "    if x == \"hathi\":\n",
    "        return \"hati\"\n",
    "    if x == \"hathi wife\":\n",
    "        return \"haati wife\"\n",
    "    return x"
   ]
  },
  {
   "cell_type": "code",
   "execution_count": 462,
   "id": "cfddab06",
   "metadata": {},
   "outputs": [],
   "source": [
    "obs_df[\"name\"] = obs_df[\"name\"].apply(lambda x: preprocess_name(x))"
   ]
  },
  {
   "cell_type": "code",
   "execution_count": 463,
   "id": "128436ba",
   "metadata": {},
   "outputs": [
    {
     "data": {
      "text/plain": [
       "name      \n",
       "jethalal      417\n",
       "champaklal    311\n",
       "tarak         232\n",
       "babita        188\n",
       "ayar          121\n",
       "abdul         116\n",
       "tarak wife    100\n",
       "sodi           77\n",
       "bhide wife     64\n",
       "bhide          59\n",
       "tappu          29\n",
       "hati           27\n",
       "popatlal       20\n",
       "sodi wife      12\n",
       "haati wife     12\n",
       "gogi            3\n",
       "golu            3\n",
       "chintu          3\n",
       "sonu            3\n",
       "dtype: int64"
      ]
     },
     "execution_count": 463,
     "metadata": {},
     "output_type": "execute_result"
    }
   ],
   "source": [
    "obs_df.value_counts()"
   ]
  },
  {
   "cell_type": "code",
   "execution_count": 464,
   "id": "967a909b",
   "metadata": {},
   "outputs": [],
   "source": [
    "obs_df = obs_df[~obs_df[[\"name\"]].isin([\"golu\",\"gogi\",\"chintu\",\"sonu\"])]\n",
    "est_df = estimated_df[~estimated_df[[\"name\"]].isin([\"rickshaw driver\",\"babita friend\"])]"
   ]
  },
  {
   "cell_type": "code",
   "execution_count": 465,
   "id": "ed871f6f",
   "metadata": {
    "scrolled": true
   },
   "outputs": [
    {
     "data": {
      "text/plain": [
       "name      \n",
       "jethalal      417\n",
       "champaklal    311\n",
       "tarak         232\n",
       "babita        188\n",
       "ayar          121\n",
       "abdul         116\n",
       "tarak wife    100\n",
       "sodi           77\n",
       "bhide wife     64\n",
       "bhide          59\n",
       "tappu          29\n",
       "hati           27\n",
       "popatlal       20\n",
       "haati wife     12\n",
       "sodi wife      12\n",
       "dtype: int64"
      ]
     },
     "execution_count": 465,
     "metadata": {},
     "output_type": "execute_result"
    }
   ],
   "source": [
    "obs_df.value_counts()"
   ]
  },
  {
   "cell_type": "code",
   "execution_count": 466,
   "id": "9d0d2bbc",
   "metadata": {},
   "outputs": [
    {
     "data": {
      "text/plain": [
       "name       \n",
       "jethalal       390\n",
       "champak lal    254\n",
       "tarak          239\n",
       "tappu          164\n",
       "bhide          161\n",
       "babita         146\n",
       "ayar           123\n",
       "tarak wife     111\n",
       "bhide wife     101\n",
       "abdul           71\n",
       "popatlal        60\n",
       "haati           53\n",
       "sodi            49\n",
       "haati wife      20\n",
       "sodi wife       18\n",
       "dtype: int64"
      ]
     },
     "execution_count": 466,
     "metadata": {},
     "output_type": "execute_result"
    }
   ],
   "source": [
    "est_df.value_counts()"
   ]
  },
  {
   "cell_type": "code",
   "execution_count": 630,
   "id": "866ac6e2",
   "metadata": {},
   "outputs": [],
   "source": [
    "obs_agg = obs_df.groupby(pd.Grouper(freq=\"1s\")).apply(lambda x:x[\"name\"].unique())\n",
    "est_agg = est_df.groupby(pd.Grouper(freq=\"1s\")).apply(lambda x:x[\"name\"].unique())"
   ]
  },
  {
   "cell_type": "code",
   "execution_count": 631,
   "id": "e309d4f7",
   "metadata": {},
   "outputs": [
    {
     "data": {
      "text/plain": [
       "time\n",
       "0 days 00:00:05                           [bhide, hati, abdul]\n",
       "0 days 00:00:06                           [bhide, hati, abdul]\n",
       "0 days 00:00:07    [bhide, hati, abdul, jethalal, tarak, sodi]\n",
       "0 days 00:00:08                        [jethalal, tarak, sodi]\n",
       "0 days 00:00:09    [jethalal, tarak, sodi, bhide, hati, abdul]\n",
       "                                      ...                     \n",
       "0 days 00:19:55                        [haati wife, sodi wife]\n",
       "0 days 00:19:56                        [haati wife, sodi wife]\n",
       "0 days 00:19:57                        [haati wife, sodi wife]\n",
       "0 days 00:19:58                        [haati wife, sodi wife]\n",
       "0 days 00:19:59                        [haati wife, sodi wife]\n",
       "Freq: S, Length: 1195, dtype: object"
      ]
     },
     "execution_count": 631,
     "metadata": {},
     "output_type": "execute_result"
    }
   ],
   "source": [
    "obs_agg"
   ]
  },
  {
   "cell_type": "code",
   "execution_count": 632,
   "id": "b8b118ce",
   "metadata": {},
   "outputs": [
    {
     "data": {
      "text/plain": [
       "time\n",
       "0 days 00:00:05                           [haati, bhide, abdul]\n",
       "0 days 00:00:06                           [haati, bhide, abdul]\n",
       "0 days 00:00:07    [haati, abdul, bhide, jethalal, tarak, sodi]\n",
       "0 days 00:00:08                  [tarak, jethalal, sodi, tappu]\n",
       "0 days 00:00:09          [jethalal, tappu, haati, abdul, bhide]\n",
       "                                       ...                     \n",
       "0 days 00:19:55                         [haati wife, sodi wife]\n",
       "0 days 00:19:56                         [sodi wife, haati wife]\n",
       "0 days 00:19:57                         [sodi wife, haati wife]\n",
       "0 days 00:19:58                         [sodi wife, haati wife]\n",
       "0 days 00:19:59                         [sodi wife, haati wife]\n",
       "Freq: S, Length: 1195, dtype: object"
      ]
     },
     "execution_count": 632,
     "metadata": {},
     "output_type": "execute_result"
    }
   ],
   "source": [
    "est_agg"
   ]
  },
  {
   "cell_type": "code",
   "execution_count": 633,
   "id": "1c230d18",
   "metadata": {},
   "outputs": [],
   "source": [
    "obs_agg.name = \"observed\"\n",
    "est_agg.name = \"estimated\""
   ]
  },
  {
   "cell_type": "code",
   "execution_count": 634,
   "id": "12976c2d",
   "metadata": {
    "scrolled": true
   },
   "outputs": [
    {
     "data": {
      "text/html": [
       "<div>\n",
       "<style scoped>\n",
       "    .dataframe tbody tr th:only-of-type {\n",
       "        vertical-align: middle;\n",
       "    }\n",
       "\n",
       "    .dataframe tbody tr th {\n",
       "        vertical-align: top;\n",
       "    }\n",
       "\n",
       "    .dataframe thead th {\n",
       "        text-align: right;\n",
       "    }\n",
       "</style>\n",
       "<table border=\"1\" class=\"dataframe\">\n",
       "  <thead>\n",
       "    <tr style=\"text-align: right;\">\n",
       "      <th></th>\n",
       "      <th>observed</th>\n",
       "      <th>estimated</th>\n",
       "    </tr>\n",
       "    <tr>\n",
       "      <th>time</th>\n",
       "      <th></th>\n",
       "      <th></th>\n",
       "    </tr>\n",
       "  </thead>\n",
       "  <tbody>\n",
       "    <tr>\n",
       "      <th>0 days 00:00:05</th>\n",
       "      <td>[bhide, hati, abdul]</td>\n",
       "      <td>[haati, bhide, abdul]</td>\n",
       "    </tr>\n",
       "    <tr>\n",
       "      <th>0 days 00:00:06</th>\n",
       "      <td>[bhide, hati, abdul]</td>\n",
       "      <td>[haati, bhide, abdul]</td>\n",
       "    </tr>\n",
       "    <tr>\n",
       "      <th>0 days 00:00:07</th>\n",
       "      <td>[bhide, hati, abdul, jethalal, tarak, sodi]</td>\n",
       "      <td>[haati, abdul, bhide, jethalal, tarak, sodi]</td>\n",
       "    </tr>\n",
       "    <tr>\n",
       "      <th>0 days 00:00:08</th>\n",
       "      <td>[jethalal, tarak, sodi]</td>\n",
       "      <td>[tarak, jethalal, sodi, tappu]</td>\n",
       "    </tr>\n",
       "    <tr>\n",
       "      <th>0 days 00:00:09</th>\n",
       "      <td>[jethalal, tarak, sodi, bhide, hati, abdul]</td>\n",
       "      <td>[jethalal, tappu, haati, abdul, bhide]</td>\n",
       "    </tr>\n",
       "  </tbody>\n",
       "</table>\n",
       "</div>"
      ],
      "text/plain": [
       "                                                    observed  \\\n",
       "time                                                           \n",
       "0 days 00:00:05                         [bhide, hati, abdul]   \n",
       "0 days 00:00:06                         [bhide, hati, abdul]   \n",
       "0 days 00:00:07  [bhide, hati, abdul, jethalal, tarak, sodi]   \n",
       "0 days 00:00:08                      [jethalal, tarak, sodi]   \n",
       "0 days 00:00:09  [jethalal, tarak, sodi, bhide, hati, abdul]   \n",
       "\n",
       "                                                    estimated  \n",
       "time                                                           \n",
       "0 days 00:00:05                         [haati, bhide, abdul]  \n",
       "0 days 00:00:06                         [haati, bhide, abdul]  \n",
       "0 days 00:00:07  [haati, abdul, bhide, jethalal, tarak, sodi]  \n",
       "0 days 00:00:08                [tarak, jethalal, sodi, tappu]  \n",
       "0 days 00:00:09        [jethalal, tappu, haati, abdul, bhide]  "
      ]
     },
     "execution_count": 634,
     "metadata": {},
     "output_type": "execute_result"
    }
   ],
   "source": [
    "merged = pd.merge(obs_agg,est_agg,how=\"inner\",left_index=True,right_index=True)\n",
    "merged.head()"
   ]
  },
  {
   "cell_type": "code",
   "execution_count": 635,
   "id": "61cb8b23",
   "metadata": {},
   "outputs": [
    {
     "data": {
      "text/plain": [
       "time\n",
       "0 days 00:00:05                           {abdul, bhide}\n",
       "0 days 00:00:06                           {abdul, bhide}\n",
       "0 days 00:00:07    {jethalal, abdul, tarak, bhide, sodi}\n",
       "0 days 00:00:08                  {tarak, jethalal, sodi}\n",
       "0 days 00:00:09                 {bhide, abdul, jethalal}\n",
       "                                   ...                  \n",
       "0 days 00:19:55                  {haati wife, sodi wife}\n",
       "0 days 00:19:56                  {haati wife, sodi wife}\n",
       "0 days 00:19:57                  {haati wife, sodi wife}\n",
       "0 days 00:19:58                  {haati wife, sodi wife}\n",
       "0 days 00:19:59                  {haati wife, sodi wife}\n",
       "Freq: S, Length: 1195, dtype: object"
      ]
     },
     "execution_count": 635,
     "metadata": {},
     "output_type": "execute_result"
    }
   ],
   "source": [
    "merged.apply(lambda x:set(x[\"observed\"]).intersection(x[\"estimated\"]),axis=1)"
   ]
  },
  {
   "cell_type": "code",
   "execution_count": 636,
   "id": "5d178f06",
   "metadata": {},
   "outputs": [],
   "source": [
    "def calculate_precision(df,pred,obs):\n",
    "    inter_len = df.apply(lambda x: len(set(x[obs]).intersection(x[pred])),axis=1)\n",
    "    pred_len = df[pred].apply(lambda x: len(x))\n",
    "    total = inter_len.div(pred_len)\n",
    "    result = total.sum()/total.shape[0]\n",
    "    return result\n",
    "    "
   ]
  },
  {
   "cell_type": "code",
   "execution_count": 637,
   "id": "9ec9ac6f",
   "metadata": {},
   "outputs": [
    {
     "data": {
      "text/plain": [
       "0.4739386996081556"
      ]
     },
     "execution_count": 637,
     "metadata": {},
     "output_type": "execute_result"
    }
   ],
   "source": [
    "precision =calculate_precision(merged,\"estimated\",\"observed\")\n",
    "precision"
   ]
  },
  {
   "cell_type": "code",
   "execution_count": 638,
   "id": "77c28dfc",
   "metadata": {},
   "outputs": [],
   "source": [
    "def calculate_recall(df,pred,obs):\n",
    "    inter_len = df.apply(lambda x: len(set(x[obs]).intersection(x[pred])),axis=1)\n",
    "    obs_len = df[obs].apply(lambda x: len(x))\n",
    "    total = inter_len.div(obs_len)\n",
    "    result = total.sum()/total.shape[0]\n",
    "    return result"
   ]
  },
  {
   "cell_type": "code",
   "execution_count": 639,
   "id": "2afbf8e5",
   "metadata": {},
   "outputs": [
    {
     "data": {
      "text/plain": [
       "0.5529218967921897"
      ]
     },
     "execution_count": 639,
     "metadata": {},
     "output_type": "execute_result"
    }
   ],
   "source": [
    "recall =calculate_recall(merged,\"estimated\",\"observed\")\n",
    "recall"
   ]
  },
  {
   "cell_type": "code",
   "execution_count": 640,
   "id": "2fb1eead",
   "metadata": {},
   "outputs": [],
   "source": [
    "def calculate_f1(precision,recall):\n",
    "    return 2*precision*recall/(precision+recall)"
   ]
  },
  {
   "cell_type": "code",
   "execution_count": 641,
   "id": "12424244",
   "metadata": {},
   "outputs": [
    {
     "data": {
      "text/plain": [
       "0.5103927167313344"
      ]
     },
     "execution_count": 641,
     "metadata": {},
     "output_type": "execute_result"
    }
   ],
   "source": [
    "calculate_f1(precision,recall)"
   ]
  },
  {
   "cell_type": "code",
   "execution_count": 663,
   "id": "34e2e822",
   "metadata": {},
   "outputs": [],
   "source": [
    "def rolling_window(df):\n",
    "    res = []\n",
    "    for x in df.sort_index().rolling(window=\"3s\"):\n",
    "        ls = set()\n",
    "        for y in x.values:\n",
    "            ls.update(y)\n",
    "        res.append(ls)\n",
    "        \n",
    "    return pd.Series(res)\n",
    "    "
   ]
  },
  {
   "cell_type": "code",
   "execution_count": 664,
   "id": "e26eedd6",
   "metadata": {},
   "outputs": [
    {
     "data": {
      "text/plain": [
       "0                              {abdul, hati, bhide}\n",
       "1                              {abdul, hati, bhide}\n",
       "2       {jethalal, abdul, hati, tarak, bhide, sodi}\n",
       "3       {jethalal, abdul, hati, tarak, bhide, sodi}\n",
       "4       {jethalal, abdul, hati, tarak, bhide, sodi}\n",
       "                           ...                     \n",
       "1190                        {haati wife, sodi wife}\n",
       "1191                        {haati wife, sodi wife}\n",
       "1192                        {haati wife, sodi wife}\n",
       "1193                        {haati wife, sodi wife}\n",
       "1194                        {haati wife, sodi wife}\n",
       "Name: observed, Length: 1195, dtype: object"
      ]
     },
     "execution_count": 664,
     "metadata": {},
     "output_type": "execute_result"
    }
   ],
   "source": [
    "obs_roll = rolling_window(obs_agg)\n",
    "obs_roll.name = \"observed\"\n",
    "obs_roll"
   ]
  },
  {
   "cell_type": "code",
   "execution_count": 665,
   "id": "5455d0b8",
   "metadata": {},
   "outputs": [
    {
     "data": {
      "text/plain": [
       "0                                   {haati, abdul, bhide}\n",
       "1                                   {haati, abdul, bhide}\n",
       "2            {jethalal, abdul, haati, tarak, bhide, sodi}\n",
       "3       {jethalal, tappu, abdul, haati, tarak, bhide, ...\n",
       "4       {jethalal, tappu, abdul, haati, tarak, bhide, ...\n",
       "                              ...                        \n",
       "1190                              {haati wife, sodi wife}\n",
       "1191                              {haati wife, sodi wife}\n",
       "1192                              {haati wife, sodi wife}\n",
       "1193                              {haati wife, sodi wife}\n",
       "1194                              {haati wife, sodi wife}\n",
       "Name: estimated, Length: 1195, dtype: object"
      ]
     },
     "execution_count": 665,
     "metadata": {},
     "output_type": "execute_result"
    }
   ],
   "source": [
    "est_roll = rolling_window(est_agg)\n",
    "est_roll.name = \"estimated\"\n",
    "est_roll"
   ]
  },
  {
   "cell_type": "code",
   "execution_count": 666,
   "id": "84edd347",
   "metadata": {},
   "outputs": [
    {
     "data": {
      "text/html": [
       "<div>\n",
       "<style scoped>\n",
       "    .dataframe tbody tr th:only-of-type {\n",
       "        vertical-align: middle;\n",
       "    }\n",
       "\n",
       "    .dataframe tbody tr th {\n",
       "        vertical-align: top;\n",
       "    }\n",
       "\n",
       "    .dataframe thead th {\n",
       "        text-align: right;\n",
       "    }\n",
       "</style>\n",
       "<table border=\"1\" class=\"dataframe\">\n",
       "  <thead>\n",
       "    <tr style=\"text-align: right;\">\n",
       "      <th></th>\n",
       "      <th>estimated</th>\n",
       "      <th>observed</th>\n",
       "    </tr>\n",
       "  </thead>\n",
       "  <tbody>\n",
       "    <tr>\n",
       "      <th>0</th>\n",
       "      <td>{haati, abdul, bhide}</td>\n",
       "      <td>{abdul, hati, bhide}</td>\n",
       "    </tr>\n",
       "    <tr>\n",
       "      <th>1</th>\n",
       "      <td>{haati, abdul, bhide}</td>\n",
       "      <td>{abdul, hati, bhide}</td>\n",
       "    </tr>\n",
       "    <tr>\n",
       "      <th>2</th>\n",
       "      <td>{jethalal, abdul, haati, tarak, bhide, sodi}</td>\n",
       "      <td>{jethalal, abdul, hati, tarak, bhide, sodi}</td>\n",
       "    </tr>\n",
       "    <tr>\n",
       "      <th>3</th>\n",
       "      <td>{jethalal, tappu, abdul, haati, tarak, bhide, ...</td>\n",
       "      <td>{jethalal, abdul, hati, tarak, bhide, sodi}</td>\n",
       "    </tr>\n",
       "    <tr>\n",
       "      <th>4</th>\n",
       "      <td>{jethalal, tappu, abdul, haati, tarak, bhide, ...</td>\n",
       "      <td>{jethalal, abdul, hati, tarak, bhide, sodi}</td>\n",
       "    </tr>\n",
       "  </tbody>\n",
       "</table>\n",
       "</div>"
      ],
      "text/plain": [
       "                                           estimated  \\\n",
       "0                              {haati, abdul, bhide}   \n",
       "1                              {haati, abdul, bhide}   \n",
       "2       {jethalal, abdul, haati, tarak, bhide, sodi}   \n",
       "3  {jethalal, tappu, abdul, haati, tarak, bhide, ...   \n",
       "4  {jethalal, tappu, abdul, haati, tarak, bhide, ...   \n",
       "\n",
       "                                      observed  \n",
       "0                         {abdul, hati, bhide}  \n",
       "1                         {abdul, hati, bhide}  \n",
       "2  {jethalal, abdul, hati, tarak, bhide, sodi}  \n",
       "3  {jethalal, abdul, hati, tarak, bhide, sodi}  \n",
       "4  {jethalal, abdul, hati, tarak, bhide, sodi}  "
      ]
     },
     "execution_count": 666,
     "metadata": {},
     "output_type": "execute_result"
    }
   ],
   "source": [
    "roll_merged = pd.concat([est_roll,obs_roll],axis=1)\n",
    "roll_merged.head()"
   ]
  },
  {
   "cell_type": "code",
   "execution_count": 667,
   "id": "f46170fa",
   "metadata": {},
   "outputs": [
    {
     "data": {
      "text/plain": [
       "0.5074791294247362"
      ]
     },
     "execution_count": 667,
     "metadata": {},
     "output_type": "execute_result"
    }
   ],
   "source": [
    "roll_p = calculate_precision(roll_merged,\"estimated\",\"observed\")\n",
    "roll_p"
   ]
  },
  {
   "cell_type": "code",
   "execution_count": 668,
   "id": "b48d4eca",
   "metadata": {},
   "outputs": [
    {
     "data": {
      "text/plain": [
       "0.6202500498107192"
      ]
     },
     "execution_count": 668,
     "metadata": {},
     "output_type": "execute_result"
    }
   ],
   "source": [
    "roll_r = calculate_recall(roll_merged,\"estimated\",\"observed\")\n",
    "roll_r"
   ]
  },
  {
   "cell_type": "code",
   "execution_count": 669,
   "id": "cfc87615",
   "metadata": {},
   "outputs": [
    {
     "data": {
      "text/plain": [
       "0.5582261434735376"
      ]
     },
     "execution_count": 669,
     "metadata": {},
     "output_type": "execute_result"
    }
   ],
   "source": [
    "roll_f1 =  calculate_f1(roll_p,roll_r)\n",
    "roll_f1"
   ]
  }
 ],
 "metadata": {
  "kernelspec": {
   "display_name": "Python 3 (ipykernel)",
   "language": "python",
   "name": "python3"
  },
  "language_info": {
   "codemirror_mode": {
    "name": "ipython",
    "version": 3
   },
   "file_extension": ".py",
   "mimetype": "text/x-python",
   "name": "python",
   "nbconvert_exporter": "python",
   "pygments_lexer": "ipython3",
   "version": "3.9.13"
  }
 },
 "nbformat": 4,
 "nbformat_minor": 5
}
